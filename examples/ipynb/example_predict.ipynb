{
 "metadata": {
  "name": "example_predict"
 },
 "nbformat": 3,
 "nbformat_minor": 0,
 "worksheets": [
  {
   "cells": [
    {
     "cell_type": "markdown",
     "metadata": {},
     "source": [
      "# Out of sample prediction"
     ]
    },
    {
     "cell_type": "code",
     "collapsed": false,
     "input": [
      "import numpy as np\n",
      "import statsmodels.api as sm"
     ],
     "language": "python",
     "metadata": {},
     "outputs": []
    },
    {
     "cell_type": "markdown",
     "metadata": {},
     "source": [
      "## Artificial data"
     ]
    },
    {
     "cell_type": "code",
     "collapsed": false,
     "input": [
      "nsample = 50\n",
      "sig = 0.25\n",
      "x1 = np.linspace(0, 20, nsample)\n",
      "X = np.c_[x1, np.sin(x1), (x1-5)**2, np.ones(nsample)]\n",
      "beta = [0.5, 0.5, -0.02, 5.]\n",
      "y_true = np.dot(X, beta)\n",
      "y = y_true + sig * np.random.normal(size=nsample)"
     ],
     "language": "python",
     "metadata": {},
     "outputs": []
    },
    {
     "cell_type": "markdown",
     "metadata": {},
     "source": [
      "## Estimation "
     ]
    },
    {
     "cell_type": "code",
     "collapsed": false,
     "input": [
      "olsmod = sm.OLS(y, X)\n",
      "olsres = olsmod.fit()\n",
      "print olsres.summary()"
     ],
     "language": "python",
     "metadata": {},
     "outputs": []
    },
    {
     "cell_type": "markdown",
     "metadata": {},
     "source": [
      "## In-sample prediction"
     ]
    },
    {
     "cell_type": "code",
     "collapsed": false,
     "input": [
      "ypred = olsres.predict(X)\n",
      "print ypred"
     ],
     "language": "python",
     "metadata": {},
     "outputs": []
    },
    {
     "cell_type": "markdown",
     "metadata": {},
     "source": [
      "## Create a new sample of explanatory variables Xnew, predict and plot"
     ]
    },
    {
     "cell_type": "code",
     "collapsed": false,
     "input": [
      "x1n = np.linspace(20.5,25, 10)\n",
      "Xnew = np.c_[x1n, np.sin(x1n), (x1n-5)**2, np.ones(10)]\n",
      "ynewpred =  olsres.predict(Xnew) # predict out of sample\n",
      "print ypred"
     ],
     "language": "python",
     "metadata": {},
     "outputs": []
    },
    {
     "cell_type": "markdown",
     "metadata": {},
     "source": [
      "## Plot comparison"
     ]
    },
    {
     "cell_type": "code",
     "collapsed": false,
     "input": [
      "import matplotlib.pyplot as plt\n",
      "plt.figure()\n",
      "plt.plot(x1, y, 'o', x1, y_true, 'b-')\n",
      "plt.plot(np.hstack((x1, x1n)), np.hstack((ypred, ynewpred)),'r')\n",
      "plt.title('OLS prediction, blue: true and data, fitted/predicted values:red')"
     ],
     "language": "python",
     "metadata": {},
     "outputs": []
    }
   ],
   "metadata": {}
  }
 ]
}